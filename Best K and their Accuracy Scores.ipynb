{
  "nbformat": 4,
  "nbformat_minor": 0,
  "metadata": {
    "colab": {
      "provenance": []
    },
    "kernelspec": {
      "name": "python3",
      "display_name": "Python 3"
    },
    "language_info": {
      "name": "python"
    }
  },
  "cells": [
    {
      "cell_type": "markdown",
      "source": [
        "#### Alfrethanov Christian Wijaya\n",
        "#### 24060120140147\n",
        "#### Praktikum Data Mining"
      ],
      "metadata": {
        "id": "q515wQujHaY7"
      }
    },
    {
      "cell_type": "markdown",
      "source": [
        "# **Import Dataset from Drive**"
      ],
      "metadata": {
        "id": "F7JX7AAG5ALe"
      }
    },
    {
      "cell_type": "code",
      "source": [
        "import pandas as pd\n",
        "import numpy as np\n",
        "import matplotlib.pyplot as mtp\n",
        "\n",
        "from google.colab import drive\n",
        "drive.mount('/content/drive')\n",
        "\n",
        "df = pd.read_csv('/content/drive/MyDrive/PrakDatMin/Cryotherapy.csv')"
      ],
      "metadata": {
        "colab": {
          "base_uri": "https://localhost:8080/"
        },
        "id": "supchm6yzt03",
        "outputId": "171387ac-8857-4780-8e03-ab0addafb57c"
      },
      "execution_count": null,
      "outputs": [
        {
          "output_type": "stream",
          "name": "stdout",
          "text": [
            "Mounted at /content/drive\n"
          ]
        }
      ]
    },
    {
      "cell_type": "markdown",
      "source": [
        "# **Data Understanding**"
      ],
      "metadata": {
        "id": "uv36nwpn5Fcy"
      }
    },
    {
      "cell_type": "code",
      "source": [
        "df.shape"
      ],
      "metadata": {
        "colab": {
          "base_uri": "https://localhost:8080/"
        },
        "id": "ADviqki4bYiI",
        "outputId": "daf79597-92f6-42a1-b892-20dd7b46f21b"
      },
      "execution_count": null,
      "outputs": [
        {
          "output_type": "execute_result",
          "data": {
            "text/plain": [
              "(90, 7)"
            ]
          },
          "metadata": {},
          "execution_count": 9
        }
      ]
    },
    {
      "cell_type": "code",
      "source": [
        "dataset = df.copy()\n",
        "dataset.head()"
      ],
      "metadata": {
        "colab": {
          "base_uri": "https://localhost:8080/",
          "height": 206
        },
        "id": "O3S95Btv1BHG",
        "outputId": "9e17136f-f1c8-465b-dd5d-bb4ec754c670"
      },
      "execution_count": null,
      "outputs": [
        {
          "output_type": "execute_result",
          "data": {
            "text/plain": [
              "   sex  age   Time  Number_of_Warts  Type   Area  Result_of_Treatment\n",
              "0    1   35  12.00                5     1  100.0                    0\n",
              "1    1   29   7.00                5     1   96.0                    1\n",
              "2    1   50   8.00                1     3  132.0                    0\n",
              "3    1   32  11.75                7     3  750.0                    0\n",
              "4    1   67   9.25                1     1   42.0                    0"
            ],
            "text/html": [
              "\n",
              "  <div id=\"df-6b129c2b-6f06-445b-aad9-51c53da03f10\">\n",
              "    <div class=\"colab-df-container\">\n",
              "      <div>\n",
              "<style scoped>\n",
              "    .dataframe tbody tr th:only-of-type {\n",
              "        vertical-align: middle;\n",
              "    }\n",
              "\n",
              "    .dataframe tbody tr th {\n",
              "        vertical-align: top;\n",
              "    }\n",
              "\n",
              "    .dataframe thead th {\n",
              "        text-align: right;\n",
              "    }\n",
              "</style>\n",
              "<table border=\"1\" class=\"dataframe\">\n",
              "  <thead>\n",
              "    <tr style=\"text-align: right;\">\n",
              "      <th></th>\n",
              "      <th>sex</th>\n",
              "      <th>age</th>\n",
              "      <th>Time</th>\n",
              "      <th>Number_of_Warts</th>\n",
              "      <th>Type</th>\n",
              "      <th>Area</th>\n",
              "      <th>Result_of_Treatment</th>\n",
              "    </tr>\n",
              "  </thead>\n",
              "  <tbody>\n",
              "    <tr>\n",
              "      <th>0</th>\n",
              "      <td>1</td>\n",
              "      <td>35</td>\n",
              "      <td>12.00</td>\n",
              "      <td>5</td>\n",
              "      <td>1</td>\n",
              "      <td>100.0</td>\n",
              "      <td>0</td>\n",
              "    </tr>\n",
              "    <tr>\n",
              "      <th>1</th>\n",
              "      <td>1</td>\n",
              "      <td>29</td>\n",
              "      <td>7.00</td>\n",
              "      <td>5</td>\n",
              "      <td>1</td>\n",
              "      <td>96.0</td>\n",
              "      <td>1</td>\n",
              "    </tr>\n",
              "    <tr>\n",
              "      <th>2</th>\n",
              "      <td>1</td>\n",
              "      <td>50</td>\n",
              "      <td>8.00</td>\n",
              "      <td>1</td>\n",
              "      <td>3</td>\n",
              "      <td>132.0</td>\n",
              "      <td>0</td>\n",
              "    </tr>\n",
              "    <tr>\n",
              "      <th>3</th>\n",
              "      <td>1</td>\n",
              "      <td>32</td>\n",
              "      <td>11.75</td>\n",
              "      <td>7</td>\n",
              "      <td>3</td>\n",
              "      <td>750.0</td>\n",
              "      <td>0</td>\n",
              "    </tr>\n",
              "    <tr>\n",
              "      <th>4</th>\n",
              "      <td>1</td>\n",
              "      <td>67</td>\n",
              "      <td>9.25</td>\n",
              "      <td>1</td>\n",
              "      <td>1</td>\n",
              "      <td>42.0</td>\n",
              "      <td>0</td>\n",
              "    </tr>\n",
              "  </tbody>\n",
              "</table>\n",
              "</div>\n",
              "      <button class=\"colab-df-convert\" onclick=\"convertToInteractive('df-6b129c2b-6f06-445b-aad9-51c53da03f10')\"\n",
              "              title=\"Convert this dataframe to an interactive table.\"\n",
              "              style=\"display:none;\">\n",
              "        \n",
              "  <svg xmlns=\"http://www.w3.org/2000/svg\" height=\"24px\"viewBox=\"0 0 24 24\"\n",
              "       width=\"24px\">\n",
              "    <path d=\"M0 0h24v24H0V0z\" fill=\"none\"/>\n",
              "    <path d=\"M18.56 5.44l.94 2.06.94-2.06 2.06-.94-2.06-.94-.94-2.06-.94 2.06-2.06.94zm-11 1L8.5 8.5l.94-2.06 2.06-.94-2.06-.94L8.5 2.5l-.94 2.06-2.06.94zm10 10l.94 2.06.94-2.06 2.06-.94-2.06-.94-.94-2.06-.94 2.06-2.06.94z\"/><path d=\"M17.41 7.96l-1.37-1.37c-.4-.4-.92-.59-1.43-.59-.52 0-1.04.2-1.43.59L10.3 9.45l-7.72 7.72c-.78.78-.78 2.05 0 2.83L4 21.41c.39.39.9.59 1.41.59.51 0 1.02-.2 1.41-.59l7.78-7.78 2.81-2.81c.8-.78.8-2.07 0-2.86zM5.41 20L4 18.59l7.72-7.72 1.47 1.35L5.41 20z\"/>\n",
              "  </svg>\n",
              "      </button>\n",
              "      \n",
              "  <style>\n",
              "    .colab-df-container {\n",
              "      display:flex;\n",
              "      flex-wrap:wrap;\n",
              "      gap: 12px;\n",
              "    }\n",
              "\n",
              "    .colab-df-convert {\n",
              "      background-color: #E8F0FE;\n",
              "      border: none;\n",
              "      border-radius: 50%;\n",
              "      cursor: pointer;\n",
              "      display: none;\n",
              "      fill: #1967D2;\n",
              "      height: 32px;\n",
              "      padding: 0 0 0 0;\n",
              "      width: 32px;\n",
              "    }\n",
              "\n",
              "    .colab-df-convert:hover {\n",
              "      background-color: #E2EBFA;\n",
              "      box-shadow: 0px 1px 2px rgba(60, 64, 67, 0.3), 0px 1px 3px 1px rgba(60, 64, 67, 0.15);\n",
              "      fill: #174EA6;\n",
              "    }\n",
              "\n",
              "    [theme=dark] .colab-df-convert {\n",
              "      background-color: #3B4455;\n",
              "      fill: #D2E3FC;\n",
              "    }\n",
              "\n",
              "    [theme=dark] .colab-df-convert:hover {\n",
              "      background-color: #434B5C;\n",
              "      box-shadow: 0px 1px 3px 1px rgba(0, 0, 0, 0.15);\n",
              "      filter: drop-shadow(0px 1px 2px rgba(0, 0, 0, 0.3));\n",
              "      fill: #FFFFFF;\n",
              "    }\n",
              "  </style>\n",
              "\n",
              "      <script>\n",
              "        const buttonEl =\n",
              "          document.querySelector('#df-6b129c2b-6f06-445b-aad9-51c53da03f10 button.colab-df-convert');\n",
              "        buttonEl.style.display =\n",
              "          google.colab.kernel.accessAllowed ? 'block' : 'none';\n",
              "\n",
              "        async function convertToInteractive(key) {\n",
              "          const element = document.querySelector('#df-6b129c2b-6f06-445b-aad9-51c53da03f10');\n",
              "          const dataTable =\n",
              "            await google.colab.kernel.invokeFunction('convertToInteractive',\n",
              "                                                     [key], {});\n",
              "          if (!dataTable) return;\n",
              "\n",
              "          const docLinkHtml = 'Like what you see? Visit the ' +\n",
              "            '<a target=\"_blank\" href=https://colab.research.google.com/notebooks/data_table.ipynb>data table notebook</a>'\n",
              "            + ' to learn more about interactive tables.';\n",
              "          element.innerHTML = '';\n",
              "          dataTable['output_type'] = 'display_data';\n",
              "          await google.colab.output.renderOutput(dataTable, element);\n",
              "          const docLink = document.createElement('div');\n",
              "          docLink.innerHTML = docLinkHtml;\n",
              "          element.appendChild(docLink);\n",
              "        }\n",
              "      </script>\n",
              "    </div>\n",
              "  </div>\n",
              "  "
            ]
          },
          "metadata": {},
          "execution_count": 8
        }
      ]
    },
    {
      "cell_type": "code",
      "source": [
        "dataset.info()"
      ],
      "metadata": {
        "colab": {
          "base_uri": "https://localhost:8080/"
        },
        "id": "dWkCl2m7Bt3Q",
        "outputId": "6eb7c359-a687-4151-b311-8a41920bba3b"
      },
      "execution_count": null,
      "outputs": [
        {
          "output_type": "stream",
          "name": "stdout",
          "text": [
            "<class 'pandas.core.frame.DataFrame'>\n",
            "RangeIndex: 90 entries, 0 to 89\n",
            "Data columns (total 7 columns):\n",
            " #   Column               Non-Null Count  Dtype  \n",
            "---  ------               --------------  -----  \n",
            " 0   sex                  90 non-null     int64  \n",
            " 1   age                  90 non-null     int64  \n",
            " 2   Time                 90 non-null     float64\n",
            " 3   Number_of_Warts      90 non-null     int64  \n",
            " 4   Type                 90 non-null     int64  \n",
            " 5   Area                 87 non-null     float64\n",
            " 6   Result_of_Treatment  90 non-null     int64  \n",
            "dtypes: float64(2), int64(5)\n",
            "memory usage: 5.0 KB\n"
          ]
        }
      ]
    },
    {
      "cell_type": "code",
      "source": [
        "dataset.describe()"
      ],
      "metadata": {
        "colab": {
          "base_uri": "https://localhost:8080/",
          "height": 300
        },
        "id": "xBVwEPWB3Ibs",
        "outputId": "c3bd5c38-85c4-43a6-fa0c-6bc7b239ad36"
      },
      "execution_count": null,
      "outputs": [
        {
          "output_type": "execute_result",
          "data": {
            "text/plain": [
              "             sex        age       Time  Number_of_Warts       Type  \\\n",
              "count  90.000000  90.000000  90.000000        90.000000  90.000000   \n",
              "mean    1.477778  28.600000   7.666667         5.511111   1.700000   \n",
              "std     0.502304  13.360852   3.406661         3.567155   0.905042   \n",
              "min     1.000000  15.000000   0.250000         1.000000   1.000000   \n",
              "25%     1.000000  18.000000   4.562500         2.000000   1.000000   \n",
              "50%     1.000000  25.500000   8.500000         5.000000   1.000000   \n",
              "75%     2.000000  35.000000  10.687500         8.000000   3.000000   \n",
              "max     2.000000  67.000000  12.000000        12.000000   3.000000   \n",
              "\n",
              "             Area  Result_of_Treatment  \n",
              "count   87.000000            90.000000  \n",
              "mean    87.597701             0.533333  \n",
              "std    133.518439             0.501683  \n",
              "min      4.000000             0.000000  \n",
              "25%     20.000000             0.000000  \n",
              "50%     70.000000             1.000000  \n",
              "75%    100.000000             1.000000  \n",
              "max    750.000000             1.000000  "
            ],
            "text/html": [
              "\n",
              "  <div id=\"df-ef2fcc84-65f5-4fd4-9a26-cb59da602fca\">\n",
              "    <div class=\"colab-df-container\">\n",
              "      <div>\n",
              "<style scoped>\n",
              "    .dataframe tbody tr th:only-of-type {\n",
              "        vertical-align: middle;\n",
              "    }\n",
              "\n",
              "    .dataframe tbody tr th {\n",
              "        vertical-align: top;\n",
              "    }\n",
              "\n",
              "    .dataframe thead th {\n",
              "        text-align: right;\n",
              "    }\n",
              "</style>\n",
              "<table border=\"1\" class=\"dataframe\">\n",
              "  <thead>\n",
              "    <tr style=\"text-align: right;\">\n",
              "      <th></th>\n",
              "      <th>sex</th>\n",
              "      <th>age</th>\n",
              "      <th>Time</th>\n",
              "      <th>Number_of_Warts</th>\n",
              "      <th>Type</th>\n",
              "      <th>Area</th>\n",
              "      <th>Result_of_Treatment</th>\n",
              "    </tr>\n",
              "  </thead>\n",
              "  <tbody>\n",
              "    <tr>\n",
              "      <th>count</th>\n",
              "      <td>90.000000</td>\n",
              "      <td>90.000000</td>\n",
              "      <td>90.000000</td>\n",
              "      <td>90.000000</td>\n",
              "      <td>90.000000</td>\n",
              "      <td>87.000000</td>\n",
              "      <td>90.000000</td>\n",
              "    </tr>\n",
              "    <tr>\n",
              "      <th>mean</th>\n",
              "      <td>1.477778</td>\n",
              "      <td>28.600000</td>\n",
              "      <td>7.666667</td>\n",
              "      <td>5.511111</td>\n",
              "      <td>1.700000</td>\n",
              "      <td>87.597701</td>\n",
              "      <td>0.533333</td>\n",
              "    </tr>\n",
              "    <tr>\n",
              "      <th>std</th>\n",
              "      <td>0.502304</td>\n",
              "      <td>13.360852</td>\n",
              "      <td>3.406661</td>\n",
              "      <td>3.567155</td>\n",
              "      <td>0.905042</td>\n",
              "      <td>133.518439</td>\n",
              "      <td>0.501683</td>\n",
              "    </tr>\n",
              "    <tr>\n",
              "      <th>min</th>\n",
              "      <td>1.000000</td>\n",
              "      <td>15.000000</td>\n",
              "      <td>0.250000</td>\n",
              "      <td>1.000000</td>\n",
              "      <td>1.000000</td>\n",
              "      <td>4.000000</td>\n",
              "      <td>0.000000</td>\n",
              "    </tr>\n",
              "    <tr>\n",
              "      <th>25%</th>\n",
              "      <td>1.000000</td>\n",
              "      <td>18.000000</td>\n",
              "      <td>4.562500</td>\n",
              "      <td>2.000000</td>\n",
              "      <td>1.000000</td>\n",
              "      <td>20.000000</td>\n",
              "      <td>0.000000</td>\n",
              "    </tr>\n",
              "    <tr>\n",
              "      <th>50%</th>\n",
              "      <td>1.000000</td>\n",
              "      <td>25.500000</td>\n",
              "      <td>8.500000</td>\n",
              "      <td>5.000000</td>\n",
              "      <td>1.000000</td>\n",
              "      <td>70.000000</td>\n",
              "      <td>1.000000</td>\n",
              "    </tr>\n",
              "    <tr>\n",
              "      <th>75%</th>\n",
              "      <td>2.000000</td>\n",
              "      <td>35.000000</td>\n",
              "      <td>10.687500</td>\n",
              "      <td>8.000000</td>\n",
              "      <td>3.000000</td>\n",
              "      <td>100.000000</td>\n",
              "      <td>1.000000</td>\n",
              "    </tr>\n",
              "    <tr>\n",
              "      <th>max</th>\n",
              "      <td>2.000000</td>\n",
              "      <td>67.000000</td>\n",
              "      <td>12.000000</td>\n",
              "      <td>12.000000</td>\n",
              "      <td>3.000000</td>\n",
              "      <td>750.000000</td>\n",
              "      <td>1.000000</td>\n",
              "    </tr>\n",
              "  </tbody>\n",
              "</table>\n",
              "</div>\n",
              "      <button class=\"colab-df-convert\" onclick=\"convertToInteractive('df-ef2fcc84-65f5-4fd4-9a26-cb59da602fca')\"\n",
              "              title=\"Convert this dataframe to an interactive table.\"\n",
              "              style=\"display:none;\">\n",
              "        \n",
              "  <svg xmlns=\"http://www.w3.org/2000/svg\" height=\"24px\"viewBox=\"0 0 24 24\"\n",
              "       width=\"24px\">\n",
              "    <path d=\"M0 0h24v24H0V0z\" fill=\"none\"/>\n",
              "    <path d=\"M18.56 5.44l.94 2.06.94-2.06 2.06-.94-2.06-.94-.94-2.06-.94 2.06-2.06.94zm-11 1L8.5 8.5l.94-2.06 2.06-.94-2.06-.94L8.5 2.5l-.94 2.06-2.06.94zm10 10l.94 2.06.94-2.06 2.06-.94-2.06-.94-.94-2.06-.94 2.06-2.06.94z\"/><path d=\"M17.41 7.96l-1.37-1.37c-.4-.4-.92-.59-1.43-.59-.52 0-1.04.2-1.43.59L10.3 9.45l-7.72 7.72c-.78.78-.78 2.05 0 2.83L4 21.41c.39.39.9.59 1.41.59.51 0 1.02-.2 1.41-.59l7.78-7.78 2.81-2.81c.8-.78.8-2.07 0-2.86zM5.41 20L4 18.59l7.72-7.72 1.47 1.35L5.41 20z\"/>\n",
              "  </svg>\n",
              "      </button>\n",
              "      \n",
              "  <style>\n",
              "    .colab-df-container {\n",
              "      display:flex;\n",
              "      flex-wrap:wrap;\n",
              "      gap: 12px;\n",
              "    }\n",
              "\n",
              "    .colab-df-convert {\n",
              "      background-color: #E8F0FE;\n",
              "      border: none;\n",
              "      border-radius: 50%;\n",
              "      cursor: pointer;\n",
              "      display: none;\n",
              "      fill: #1967D2;\n",
              "      height: 32px;\n",
              "      padding: 0 0 0 0;\n",
              "      width: 32px;\n",
              "    }\n",
              "\n",
              "    .colab-df-convert:hover {\n",
              "      background-color: #E2EBFA;\n",
              "      box-shadow: 0px 1px 2px rgba(60, 64, 67, 0.3), 0px 1px 3px 1px rgba(60, 64, 67, 0.15);\n",
              "      fill: #174EA6;\n",
              "    }\n",
              "\n",
              "    [theme=dark] .colab-df-convert {\n",
              "      background-color: #3B4455;\n",
              "      fill: #D2E3FC;\n",
              "    }\n",
              "\n",
              "    [theme=dark] .colab-df-convert:hover {\n",
              "      background-color: #434B5C;\n",
              "      box-shadow: 0px 1px 3px 1px rgba(0, 0, 0, 0.15);\n",
              "      filter: drop-shadow(0px 1px 2px rgba(0, 0, 0, 0.3));\n",
              "      fill: #FFFFFF;\n",
              "    }\n",
              "  </style>\n",
              "\n",
              "      <script>\n",
              "        const buttonEl =\n",
              "          document.querySelector('#df-ef2fcc84-65f5-4fd4-9a26-cb59da602fca button.colab-df-convert');\n",
              "        buttonEl.style.display =\n",
              "          google.colab.kernel.accessAllowed ? 'block' : 'none';\n",
              "\n",
              "        async function convertToInteractive(key) {\n",
              "          const element = document.querySelector('#df-ef2fcc84-65f5-4fd4-9a26-cb59da602fca');\n",
              "          const dataTable =\n",
              "            await google.colab.kernel.invokeFunction('convertToInteractive',\n",
              "                                                     [key], {});\n",
              "          if (!dataTable) return;\n",
              "\n",
              "          const docLinkHtml = 'Like what you see? Visit the ' +\n",
              "            '<a target=\"_blank\" href=https://colab.research.google.com/notebooks/data_table.ipynb>data table notebook</a>'\n",
              "            + ' to learn more about interactive tables.';\n",
              "          element.innerHTML = '';\n",
              "          dataTable['output_type'] = 'display_data';\n",
              "          await google.colab.output.renderOutput(dataTable, element);\n",
              "          const docLink = document.createElement('div');\n",
              "          docLink.innerHTML = docLinkHtml;\n",
              "          element.appendChild(docLink);\n",
              "        }\n",
              "      </script>\n",
              "    </div>\n",
              "  </div>\n",
              "  "
            ]
          },
          "metadata": {},
          "execution_count": 11
        }
      ]
    },
    {
      "cell_type": "code",
      "source": [
        "dataset.shape"
      ],
      "metadata": {
        "colab": {
          "base_uri": "https://localhost:8080/"
        },
        "id": "kJ9RwSSO3ML5",
        "outputId": "2a31e4ec-c19c-4900-e192-17c6ffb034f9"
      },
      "execution_count": null,
      "outputs": [
        {
          "output_type": "execute_result",
          "data": {
            "text/plain": [
              "(90, 7)"
            ]
          },
          "metadata": {},
          "execution_count": 12
        }
      ]
    },
    {
      "cell_type": "code",
      "source": [
        "dataset.isnull().sum()"
      ],
      "metadata": {
        "colab": {
          "base_uri": "https://localhost:8080/"
        },
        "id": "73OuVCfB_3Yx",
        "outputId": "b1b83b06-e650-448a-f02c-3a343579cbdb"
      },
      "execution_count": null,
      "outputs": [
        {
          "output_type": "execute_result",
          "data": {
            "text/plain": [
              "sex                    0\n",
              "age                    0\n",
              "Time                   0\n",
              "Number_of_Warts        0\n",
              "Type                   0\n",
              "Area                   3\n",
              "Result_of_Treatment    0\n",
              "dtype: int64"
            ]
          },
          "metadata": {},
          "execution_count": 13
        }
      ]
    },
    {
      "cell_type": "markdown",
      "source": [
        "Terdapat 3 Missing Value pada Dataset Cryotherapy.csv pada kolom Area"
      ],
      "metadata": {
        "id": "lTzYtdtoAa4w"
      }
    },
    {
      "cell_type": "markdown",
      "source": [
        "# **Data Preparation and Cleaning**\n",
        "## Delete Rows that contain missing values\n",
        "We can delete the rows because it won't affect that much to the algorithm that we'll use soon because the missing values in this dataset is just 3, we can delete the rows if the missing values in the dataset are not too much, so we have 90 rows in total in this dataset and we'll only have to delete 3 rows"
      ],
      "metadata": {
        "id": "XCOnSgoN-uxS"
      }
    },
    {
      "cell_type": "code",
      "source": [
        "df = df.dropna(axis=0)\n",
        "df"
      ],
      "metadata": {
        "colab": {
          "base_uri": "https://localhost:8080/",
          "height": 424
        },
        "id": "gRHRYlEh-uCq",
        "outputId": "24f5b1d2-8af2-4643-c572-76e3c167d91d"
      },
      "execution_count": null,
      "outputs": [
        {
          "output_type": "execute_result",
          "data": {
            "text/plain": [
              "    sex  age   Time  Number_of_Warts  Type   Area  Result_of_Treatment\n",
              "0     1   35  12.00                5     1  100.0                    0\n",
              "1     1   29   7.00                5     1   96.0                    1\n",
              "2     1   50   8.00                1     3  132.0                    0\n",
              "3     1   32  11.75                7     3  750.0                    0\n",
              "4     1   67   9.25                1     1   42.0                    0\n",
              "..  ...  ...    ...              ...   ...    ...                  ...\n",
              "85    2   34  12.00                3     3   95.0                    0\n",
              "86    2   20   3.50                6     1   75.0                    1\n",
              "87    2   35   8.25                8     3  100.0                    0\n",
              "88    1   24  10.75               10     1   20.0                    1\n",
              "89    1   19   8.00                8     1  160.0                    1\n",
              "\n",
              "[87 rows x 7 columns]"
            ],
            "text/html": [
              "\n",
              "  <div id=\"df-1932883d-4de3-450c-9ab2-4e22f537d8d7\">\n",
              "    <div class=\"colab-df-container\">\n",
              "      <div>\n",
              "<style scoped>\n",
              "    .dataframe tbody tr th:only-of-type {\n",
              "        vertical-align: middle;\n",
              "    }\n",
              "\n",
              "    .dataframe tbody tr th {\n",
              "        vertical-align: top;\n",
              "    }\n",
              "\n",
              "    .dataframe thead th {\n",
              "        text-align: right;\n",
              "    }\n",
              "</style>\n",
              "<table border=\"1\" class=\"dataframe\">\n",
              "  <thead>\n",
              "    <tr style=\"text-align: right;\">\n",
              "      <th></th>\n",
              "      <th>sex</th>\n",
              "      <th>age</th>\n",
              "      <th>Time</th>\n",
              "      <th>Number_of_Warts</th>\n",
              "      <th>Type</th>\n",
              "      <th>Area</th>\n",
              "      <th>Result_of_Treatment</th>\n",
              "    </tr>\n",
              "  </thead>\n",
              "  <tbody>\n",
              "    <tr>\n",
              "      <th>0</th>\n",
              "      <td>1</td>\n",
              "      <td>35</td>\n",
              "      <td>12.00</td>\n",
              "      <td>5</td>\n",
              "      <td>1</td>\n",
              "      <td>100.0</td>\n",
              "      <td>0</td>\n",
              "    </tr>\n",
              "    <tr>\n",
              "      <th>1</th>\n",
              "      <td>1</td>\n",
              "      <td>29</td>\n",
              "      <td>7.00</td>\n",
              "      <td>5</td>\n",
              "      <td>1</td>\n",
              "      <td>96.0</td>\n",
              "      <td>1</td>\n",
              "    </tr>\n",
              "    <tr>\n",
              "      <th>2</th>\n",
              "      <td>1</td>\n",
              "      <td>50</td>\n",
              "      <td>8.00</td>\n",
              "      <td>1</td>\n",
              "      <td>3</td>\n",
              "      <td>132.0</td>\n",
              "      <td>0</td>\n",
              "    </tr>\n",
              "    <tr>\n",
              "      <th>3</th>\n",
              "      <td>1</td>\n",
              "      <td>32</td>\n",
              "      <td>11.75</td>\n",
              "      <td>7</td>\n",
              "      <td>3</td>\n",
              "      <td>750.0</td>\n",
              "      <td>0</td>\n",
              "    </tr>\n",
              "    <tr>\n",
              "      <th>4</th>\n",
              "      <td>1</td>\n",
              "      <td>67</td>\n",
              "      <td>9.25</td>\n",
              "      <td>1</td>\n",
              "      <td>1</td>\n",
              "      <td>42.0</td>\n",
              "      <td>0</td>\n",
              "    </tr>\n",
              "    <tr>\n",
              "      <th>...</th>\n",
              "      <td>...</td>\n",
              "      <td>...</td>\n",
              "      <td>...</td>\n",
              "      <td>...</td>\n",
              "      <td>...</td>\n",
              "      <td>...</td>\n",
              "      <td>...</td>\n",
              "    </tr>\n",
              "    <tr>\n",
              "      <th>85</th>\n",
              "      <td>2</td>\n",
              "      <td>34</td>\n",
              "      <td>12.00</td>\n",
              "      <td>3</td>\n",
              "      <td>3</td>\n",
              "      <td>95.0</td>\n",
              "      <td>0</td>\n",
              "    </tr>\n",
              "    <tr>\n",
              "      <th>86</th>\n",
              "      <td>2</td>\n",
              "      <td>20</td>\n",
              "      <td>3.50</td>\n",
              "      <td>6</td>\n",
              "      <td>1</td>\n",
              "      <td>75.0</td>\n",
              "      <td>1</td>\n",
              "    </tr>\n",
              "    <tr>\n",
              "      <th>87</th>\n",
              "      <td>2</td>\n",
              "      <td>35</td>\n",
              "      <td>8.25</td>\n",
              "      <td>8</td>\n",
              "      <td>3</td>\n",
              "      <td>100.0</td>\n",
              "      <td>0</td>\n",
              "    </tr>\n",
              "    <tr>\n",
              "      <th>88</th>\n",
              "      <td>1</td>\n",
              "      <td>24</td>\n",
              "      <td>10.75</td>\n",
              "      <td>10</td>\n",
              "      <td>1</td>\n",
              "      <td>20.0</td>\n",
              "      <td>1</td>\n",
              "    </tr>\n",
              "    <tr>\n",
              "      <th>89</th>\n",
              "      <td>1</td>\n",
              "      <td>19</td>\n",
              "      <td>8.00</td>\n",
              "      <td>8</td>\n",
              "      <td>1</td>\n",
              "      <td>160.0</td>\n",
              "      <td>1</td>\n",
              "    </tr>\n",
              "  </tbody>\n",
              "</table>\n",
              "<p>87 rows × 7 columns</p>\n",
              "</div>\n",
              "      <button class=\"colab-df-convert\" onclick=\"convertToInteractive('df-1932883d-4de3-450c-9ab2-4e22f537d8d7')\"\n",
              "              title=\"Convert this dataframe to an interactive table.\"\n",
              "              style=\"display:none;\">\n",
              "        \n",
              "  <svg xmlns=\"http://www.w3.org/2000/svg\" height=\"24px\"viewBox=\"0 0 24 24\"\n",
              "       width=\"24px\">\n",
              "    <path d=\"M0 0h24v24H0V0z\" fill=\"none\"/>\n",
              "    <path d=\"M18.56 5.44l.94 2.06.94-2.06 2.06-.94-2.06-.94-.94-2.06-.94 2.06-2.06.94zm-11 1L8.5 8.5l.94-2.06 2.06-.94-2.06-.94L8.5 2.5l-.94 2.06-2.06.94zm10 10l.94 2.06.94-2.06 2.06-.94-2.06-.94-.94-2.06-.94 2.06-2.06.94z\"/><path d=\"M17.41 7.96l-1.37-1.37c-.4-.4-.92-.59-1.43-.59-.52 0-1.04.2-1.43.59L10.3 9.45l-7.72 7.72c-.78.78-.78 2.05 0 2.83L4 21.41c.39.39.9.59 1.41.59.51 0 1.02-.2 1.41-.59l7.78-7.78 2.81-2.81c.8-.78.8-2.07 0-2.86zM5.41 20L4 18.59l7.72-7.72 1.47 1.35L5.41 20z\"/>\n",
              "  </svg>\n",
              "      </button>\n",
              "      \n",
              "  <style>\n",
              "    .colab-df-container {\n",
              "      display:flex;\n",
              "      flex-wrap:wrap;\n",
              "      gap: 12px;\n",
              "    }\n",
              "\n",
              "    .colab-df-convert {\n",
              "      background-color: #E8F0FE;\n",
              "      border: none;\n",
              "      border-radius: 50%;\n",
              "      cursor: pointer;\n",
              "      display: none;\n",
              "      fill: #1967D2;\n",
              "      height: 32px;\n",
              "      padding: 0 0 0 0;\n",
              "      width: 32px;\n",
              "    }\n",
              "\n",
              "    .colab-df-convert:hover {\n",
              "      background-color: #E2EBFA;\n",
              "      box-shadow: 0px 1px 2px rgba(60, 64, 67, 0.3), 0px 1px 3px 1px rgba(60, 64, 67, 0.15);\n",
              "      fill: #174EA6;\n",
              "    }\n",
              "\n",
              "    [theme=dark] .colab-df-convert {\n",
              "      background-color: #3B4455;\n",
              "      fill: #D2E3FC;\n",
              "    }\n",
              "\n",
              "    [theme=dark] .colab-df-convert:hover {\n",
              "      background-color: #434B5C;\n",
              "      box-shadow: 0px 1px 3px 1px rgba(0, 0, 0, 0.15);\n",
              "      filter: drop-shadow(0px 1px 2px rgba(0, 0, 0, 0.3));\n",
              "      fill: #FFFFFF;\n",
              "    }\n",
              "  </style>\n",
              "\n",
              "      <script>\n",
              "        const buttonEl =\n",
              "          document.querySelector('#df-1932883d-4de3-450c-9ab2-4e22f537d8d7 button.colab-df-convert');\n",
              "        buttonEl.style.display =\n",
              "          google.colab.kernel.accessAllowed ? 'block' : 'none';\n",
              "\n",
              "        async function convertToInteractive(key) {\n",
              "          const element = document.querySelector('#df-1932883d-4de3-450c-9ab2-4e22f537d8d7');\n",
              "          const dataTable =\n",
              "            await google.colab.kernel.invokeFunction('convertToInteractive',\n",
              "                                                     [key], {});\n",
              "          if (!dataTable) return;\n",
              "\n",
              "          const docLinkHtml = 'Like what you see? Visit the ' +\n",
              "            '<a target=\"_blank\" href=https://colab.research.google.com/notebooks/data_table.ipynb>data table notebook</a>'\n",
              "            + ' to learn more about interactive tables.';\n",
              "          element.innerHTML = '';\n",
              "          dataTable['output_type'] = 'display_data';\n",
              "          await google.colab.output.renderOutput(dataTable, element);\n",
              "          const docLink = document.createElement('div');\n",
              "          docLink.innerHTML = docLinkHtml;\n",
              "          element.appendChild(docLink);\n",
              "        }\n",
              "      </script>\n",
              "    </div>\n",
              "  </div>\n",
              "  "
            ]
          },
          "metadata": {},
          "execution_count": 14
        }
      ]
    },
    {
      "cell_type": "markdown",
      "source": [
        "Berhasil menghapus 3 baris / rows"
      ],
      "metadata": {
        "id": "QasUGvFAJH4z"
      }
    },
    {
      "cell_type": "markdown",
      "source": [
        "# **Data Encoding**\n",
        "## Encode the data which its value is object, to numerical\n",
        "##### We have to encode the data so it will be easier when we start to do the algorithm process when there are data with object value\n",
        "##### **But, for this cryotherapy dataset, we don't have to encode the data because there are no data with object value in the dataset**\n"
      ],
      "metadata": {
        "id": "ZkNPuNkdJVqD"
      }
    },
    {
      "cell_type": "markdown",
      "source": [
        "# **Algorithm, Modeling, and Evaluation**\n",
        "## Using KNN Algorithm and Evaluation in Accuracy, Precision, Recall, F1 Score\n",
        "\n"
      ],
      "metadata": {
        "id": "8Q0eEI5MlZ5V"
      }
    },
    {
      "cell_type": "code",
      "source": [
        "import numpy as np # linear algebra\n",
        "from matplotlib.colors import ListedColormap\n",
        "from sklearn import datasets, neighbors\n",
        "from mlxtend.plotting import plot_decision_regions"
      ],
      "metadata": {
        "id": "oZIfBle5lO4O"
      },
      "execution_count": null,
      "outputs": []
    },
    {
      "cell_type": "code",
      "source": [
        "df.head(10)"
      ],
      "metadata": {
        "colab": {
          "base_uri": "https://localhost:8080/",
          "height": 363
        },
        "id": "o0fnvJommLaz",
        "outputId": "c8050f8b-3a58-4cda-98ba-e0cec9a5be52"
      },
      "execution_count": null,
      "outputs": [
        {
          "output_type": "execute_result",
          "data": {
            "text/plain": [
              "    sex  age   Time  Number_of_Warts  Type   Area  Result_of_Treatment\n",
              "0     1   35  12.00                5     1  100.0                    0\n",
              "1     1   29   7.00                5     1   96.0                    1\n",
              "2     1   50   8.00                1     3  132.0                    0\n",
              "3     1   32  11.75                7     3  750.0                    0\n",
              "4     1   67   9.25                1     1   42.0                    0\n",
              "5     1   41   8.00                2     2   20.0                    1\n",
              "6     1   36  11.00                2     1    8.0                    0\n",
              "8     1   20   4.50               12     1    6.0                    1\n",
              "9     2   34  11.25                3     3  150.0                    0\n",
              "10    2   21  10.75                5     1   35.0                    0"
            ],
            "text/html": [
              "\n",
              "  <div id=\"df-1d66fb84-9213-46ff-b4a1-a5c675768a2a\">\n",
              "    <div class=\"colab-df-container\">\n",
              "      <div>\n",
              "<style scoped>\n",
              "    .dataframe tbody tr th:only-of-type {\n",
              "        vertical-align: middle;\n",
              "    }\n",
              "\n",
              "    .dataframe tbody tr th {\n",
              "        vertical-align: top;\n",
              "    }\n",
              "\n",
              "    .dataframe thead th {\n",
              "        text-align: right;\n",
              "    }\n",
              "</style>\n",
              "<table border=\"1\" class=\"dataframe\">\n",
              "  <thead>\n",
              "    <tr style=\"text-align: right;\">\n",
              "      <th></th>\n",
              "      <th>sex</th>\n",
              "      <th>age</th>\n",
              "      <th>Time</th>\n",
              "      <th>Number_of_Warts</th>\n",
              "      <th>Type</th>\n",
              "      <th>Area</th>\n",
              "      <th>Result_of_Treatment</th>\n",
              "    </tr>\n",
              "  </thead>\n",
              "  <tbody>\n",
              "    <tr>\n",
              "      <th>0</th>\n",
              "      <td>1</td>\n",
              "      <td>35</td>\n",
              "      <td>12.00</td>\n",
              "      <td>5</td>\n",
              "      <td>1</td>\n",
              "      <td>100.0</td>\n",
              "      <td>0</td>\n",
              "    </tr>\n",
              "    <tr>\n",
              "      <th>1</th>\n",
              "      <td>1</td>\n",
              "      <td>29</td>\n",
              "      <td>7.00</td>\n",
              "      <td>5</td>\n",
              "      <td>1</td>\n",
              "      <td>96.0</td>\n",
              "      <td>1</td>\n",
              "    </tr>\n",
              "    <tr>\n",
              "      <th>2</th>\n",
              "      <td>1</td>\n",
              "      <td>50</td>\n",
              "      <td>8.00</td>\n",
              "      <td>1</td>\n",
              "      <td>3</td>\n",
              "      <td>132.0</td>\n",
              "      <td>0</td>\n",
              "    </tr>\n",
              "    <tr>\n",
              "      <th>3</th>\n",
              "      <td>1</td>\n",
              "      <td>32</td>\n",
              "      <td>11.75</td>\n",
              "      <td>7</td>\n",
              "      <td>3</td>\n",
              "      <td>750.0</td>\n",
              "      <td>0</td>\n",
              "    </tr>\n",
              "    <tr>\n",
              "      <th>4</th>\n",
              "      <td>1</td>\n",
              "      <td>67</td>\n",
              "      <td>9.25</td>\n",
              "      <td>1</td>\n",
              "      <td>1</td>\n",
              "      <td>42.0</td>\n",
              "      <td>0</td>\n",
              "    </tr>\n",
              "    <tr>\n",
              "      <th>5</th>\n",
              "      <td>1</td>\n",
              "      <td>41</td>\n",
              "      <td>8.00</td>\n",
              "      <td>2</td>\n",
              "      <td>2</td>\n",
              "      <td>20.0</td>\n",
              "      <td>1</td>\n",
              "    </tr>\n",
              "    <tr>\n",
              "      <th>6</th>\n",
              "      <td>1</td>\n",
              "      <td>36</td>\n",
              "      <td>11.00</td>\n",
              "      <td>2</td>\n",
              "      <td>1</td>\n",
              "      <td>8.0</td>\n",
              "      <td>0</td>\n",
              "    </tr>\n",
              "    <tr>\n",
              "      <th>8</th>\n",
              "      <td>1</td>\n",
              "      <td>20</td>\n",
              "      <td>4.50</td>\n",
              "      <td>12</td>\n",
              "      <td>1</td>\n",
              "      <td>6.0</td>\n",
              "      <td>1</td>\n",
              "    </tr>\n",
              "    <tr>\n",
              "      <th>9</th>\n",
              "      <td>2</td>\n",
              "      <td>34</td>\n",
              "      <td>11.25</td>\n",
              "      <td>3</td>\n",
              "      <td>3</td>\n",
              "      <td>150.0</td>\n",
              "      <td>0</td>\n",
              "    </tr>\n",
              "    <tr>\n",
              "      <th>10</th>\n",
              "      <td>2</td>\n",
              "      <td>21</td>\n",
              "      <td>10.75</td>\n",
              "      <td>5</td>\n",
              "      <td>1</td>\n",
              "      <td>35.0</td>\n",
              "      <td>0</td>\n",
              "    </tr>\n",
              "  </tbody>\n",
              "</table>\n",
              "</div>\n",
              "      <button class=\"colab-df-convert\" onclick=\"convertToInteractive('df-1d66fb84-9213-46ff-b4a1-a5c675768a2a')\"\n",
              "              title=\"Convert this dataframe to an interactive table.\"\n",
              "              style=\"display:none;\">\n",
              "        \n",
              "  <svg xmlns=\"http://www.w3.org/2000/svg\" height=\"24px\"viewBox=\"0 0 24 24\"\n",
              "       width=\"24px\">\n",
              "    <path d=\"M0 0h24v24H0V0z\" fill=\"none\"/>\n",
              "    <path d=\"M18.56 5.44l.94 2.06.94-2.06 2.06-.94-2.06-.94-.94-2.06-.94 2.06-2.06.94zm-11 1L8.5 8.5l.94-2.06 2.06-.94-2.06-.94L8.5 2.5l-.94 2.06-2.06.94zm10 10l.94 2.06.94-2.06 2.06-.94-2.06-.94-.94-2.06-.94 2.06-2.06.94z\"/><path d=\"M17.41 7.96l-1.37-1.37c-.4-.4-.92-.59-1.43-.59-.52 0-1.04.2-1.43.59L10.3 9.45l-7.72 7.72c-.78.78-.78 2.05 0 2.83L4 21.41c.39.39.9.59 1.41.59.51 0 1.02-.2 1.41-.59l7.78-7.78 2.81-2.81c.8-.78.8-2.07 0-2.86zM5.41 20L4 18.59l7.72-7.72 1.47 1.35L5.41 20z\"/>\n",
              "  </svg>\n",
              "      </button>\n",
              "      \n",
              "  <style>\n",
              "    .colab-df-container {\n",
              "      display:flex;\n",
              "      flex-wrap:wrap;\n",
              "      gap: 12px;\n",
              "    }\n",
              "\n",
              "    .colab-df-convert {\n",
              "      background-color: #E8F0FE;\n",
              "      border: none;\n",
              "      border-radius: 50%;\n",
              "      cursor: pointer;\n",
              "      display: none;\n",
              "      fill: #1967D2;\n",
              "      height: 32px;\n",
              "      padding: 0 0 0 0;\n",
              "      width: 32px;\n",
              "    }\n",
              "\n",
              "    .colab-df-convert:hover {\n",
              "      background-color: #E2EBFA;\n",
              "      box-shadow: 0px 1px 2px rgba(60, 64, 67, 0.3), 0px 1px 3px 1px rgba(60, 64, 67, 0.15);\n",
              "      fill: #174EA6;\n",
              "    }\n",
              "\n",
              "    [theme=dark] .colab-df-convert {\n",
              "      background-color: #3B4455;\n",
              "      fill: #D2E3FC;\n",
              "    }\n",
              "\n",
              "    [theme=dark] .colab-df-convert:hover {\n",
              "      background-color: #434B5C;\n",
              "      box-shadow: 0px 1px 3px 1px rgba(0, 0, 0, 0.15);\n",
              "      filter: drop-shadow(0px 1px 2px rgba(0, 0, 0, 0.3));\n",
              "      fill: #FFFFFF;\n",
              "    }\n",
              "  </style>\n",
              "\n",
              "      <script>\n",
              "        const buttonEl =\n",
              "          document.querySelector('#df-1d66fb84-9213-46ff-b4a1-a5c675768a2a button.colab-df-convert');\n",
              "        buttonEl.style.display =\n",
              "          google.colab.kernel.accessAllowed ? 'block' : 'none';\n",
              "\n",
              "        async function convertToInteractive(key) {\n",
              "          const element = document.querySelector('#df-1d66fb84-9213-46ff-b4a1-a5c675768a2a');\n",
              "          const dataTable =\n",
              "            await google.colab.kernel.invokeFunction('convertToInteractive',\n",
              "                                                     [key], {});\n",
              "          if (!dataTable) return;\n",
              "\n",
              "          const docLinkHtml = 'Like what you see? Visit the ' +\n",
              "            '<a target=\"_blank\" href=https://colab.research.google.com/notebooks/data_table.ipynb>data table notebook</a>'\n",
              "            + ' to learn more about interactive tables.';\n",
              "          element.innerHTML = '';\n",
              "          dataTable['output_type'] = 'display_data';\n",
              "          await google.colab.output.renderOutput(dataTable, element);\n",
              "          const docLink = document.createElement('div');\n",
              "          docLink.innerHTML = docLinkHtml;\n",
              "          element.appendChild(docLink);\n",
              "        }\n",
              "      </script>\n",
              "    </div>\n",
              "  </div>\n",
              "  "
            ]
          },
          "metadata": {},
          "execution_count": 16
        }
      ]
    },
    {
      "cell_type": "code",
      "source": [
        "# Data Modelling\n",
        "import seaborn as sns\n",
        "sns.pairplot(df)"
      ],
      "metadata": {
        "colab": {
          "base_uri": "https://localhost:8080/",
          "height": 1000
        },
        "id": "-fuD9WQ4yTOq",
        "outputId": "af10c267-05f8-4bb8-c991-46a84963516d"
      },
      "execution_count": null,
      "outputs": [
        {
          "output_type": "execute_result",
          "data": {
            "text/plain": [
              "<seaborn.axisgrid.PairGrid at 0x7f6ab72f5150>"
            ]
          },
          "metadata": {},
          "execution_count": 87
        },
        {
          "output_type": "display_data",
          "data": {
            "text/plain": [
              "<Figure size 1260x1260 with 56 Axes>"
            ],
            "image/png": "[encoded data removed]"
          },
          "metadata": {
            "needs_background": "light"
          }
        }
      ]
    },
    {
      "cell_type": "code",
      "source": [
        "# Dependent Variable\n",
        "y = df[\"Result_of_Treatment\"]\n",
        "# Independent Variable\n",
        "x = df.drop([\"Result_of_Treatment\"], axis = 1)\n",
        "x.head()"
      ],
      "metadata": {
        "id": "P81IpjwEl2-N",
        "colab": {
          "base_uri": "https://localhost:8080/",
          "height": 206
        },
        "outputId": "cd0c826b-6142-43d1-ef6a-365df732cf9e"
      },
      "execution_count": null,
      "outputs": [
        {
          "output_type": "execute_result",
          "data": {
            "text/plain": [
              "   sex  age   Time  Number_of_Warts  Type   Area\n",
              "0    1   35  12.00                5     1  100.0\n",
              "1    1   29   7.00                5     1   96.0\n",
              "2    1   50   8.00                1     3  132.0\n",
              "3    1   32  11.75                7     3  750.0\n",
              "4    1   67   9.25                1     1   42.0"
            ],
            "text/html": [
              "\n",
              "  <div id=\"df-f5907eaf-db2c-45fe-8048-4cbdbd8cdb7a\">\n",
              "    <div class=\"colab-df-container\">\n",
              "      <div>\n",
              "<style scoped>\n",
              "    .dataframe tbody tr th:only-of-type {\n",
              "        vertical-align: middle;\n",
              "    }\n",
              "\n",
              "    .dataframe tbody tr th {\n",
              "        vertical-align: top;\n",
              "    }\n",
              "\n",
              "    .dataframe thead th {\n",
              "        text-align: right;\n",
              "    }\n",
              "</style>\n",
              "<table border=\"1\" class=\"dataframe\">\n",
              "  <thead>\n",
              "    <tr style=\"text-align: right;\">\n",
              "      <th></th>\n",
              "      <th>sex</th>\n",
              "      <th>age</th>\n",
              "      <th>Time</th>\n",
              "      <th>Number_of_Warts</th>\n",
              "      <th>Type</th>\n",
              "      <th>Area</th>\n",
              "    </tr>\n",
              "  </thead>\n",
              "  <tbody>\n",
              "    <tr>\n",
              "      <th>0</th>\n",
              "      <td>1</td>\n",
              "      <td>35</td>\n",
              "      <td>12.00</td>\n",
              "      <td>5</td>\n",
              "      <td>1</td>\n",
              "      <td>100.0</td>\n",
              "    </tr>\n",
              "    <tr>\n",
              "      <th>1</th>\n",
              "      <td>1</td>\n",
              "      <td>29</td>\n",
              "      <td>7.00</td>\n",
              "      <td>5</td>\n",
              "      <td>1</td>\n",
              "      <td>96.0</td>\n",
              "    </tr>\n",
              "    <tr>\n",
              "      <th>2</th>\n",
              "      <td>1</td>\n",
              "      <td>50</td>\n",
              "      <td>8.00</td>\n",
              "      <td>1</td>\n",
              "      <td>3</td>\n",
              "      <td>132.0</td>\n",
              "    </tr>\n",
              "    <tr>\n",
              "      <th>3</th>\n",
              "      <td>1</td>\n",
              "      <td>32</td>\n",
              "      <td>11.75</td>\n",
              "      <td>7</td>\n",
              "      <td>3</td>\n",
              "      <td>750.0</td>\n",
              "    </tr>\n",
              "    <tr>\n",
              "      <th>4</th>\n",
              "      <td>1</td>\n",
              "      <td>67</td>\n",
              "      <td>9.25</td>\n",
              "      <td>1</td>\n",
              "      <td>1</td>\n",
              "      <td>42.0</td>\n",
              "    </tr>\n",
              "  </tbody>\n",
              "</table>\n",
              "</div>\n",
              "      <button class=\"colab-df-convert\" onclick=\"convertToInteractive('df-f5907eaf-db2c-45fe-8048-4cbdbd8cdb7a')\"\n",
              "              title=\"Convert this dataframe to an interactive table.\"\n",
              "              style=\"display:none;\">\n",
              "        \n",
              "  <svg xmlns=\"http://www.w3.org/2000/svg\" height=\"24px\"viewBox=\"0 0 24 24\"\n",
              "       width=\"24px\">\n",
              "    <path d=\"M0 0h24v24H0V0z\" fill=\"none\"/>\n",
              "    <path d=\"M18.56 5.44l.94 2.06.94-2.06 2.06-.94-2.06-.94-.94-2.06-.94 2.06-2.06.94zm-11 1L8.5 8.5l.94-2.06 2.06-.94-2.06-.94L8.5 2.5l-.94 2.06-2.06.94zm10 10l.94 2.06.94-2.06 2.06-.94-2.06-.94-.94-2.06-.94 2.06-2.06.94z\"/><path d=\"M17.41 7.96l-1.37-1.37c-.4-.4-.92-.59-1.43-.59-.52 0-1.04.2-1.43.59L10.3 9.45l-7.72 7.72c-.78.78-.78 2.05 0 2.83L4 21.41c.39.39.9.59 1.41.59.51 0 1.02-.2 1.41-.59l7.78-7.78 2.81-2.81c.8-.78.8-2.07 0-2.86zM5.41 20L4 18.59l7.72-7.72 1.47 1.35L5.41 20z\"/>\n",
              "  </svg>\n",
              "      </button>\n",
              "      \n",
              "  <style>\n",
              "    .colab-df-container {\n",
              "      display:flex;\n",
              "      flex-wrap:wrap;\n",
              "      gap: 12px;\n",
              "    }\n",
              "\n",
              "    .colab-df-convert {\n",
              "      background-color: #E8F0FE;\n",
              "      border: none;\n",
              "      border-radius: 50%;\n",
              "      cursor: pointer;\n",
              "      display: none;\n",
              "      fill: #1967D2;\n",
              "      height: 32px;\n",
              "      padding: 0 0 0 0;\n",
              "      width: 32px;\n",
              "    }\n",
              "\n",
              "    .colab-df-convert:hover {\n",
              "      background-color: #E2EBFA;\n",
              "      box-shadow: 0px 1px 2px rgba(60, 64, 67, 0.3), 0px 1px 3px 1px rgba(60, 64, 67, 0.15);\n",
              "      fill: #174EA6;\n",
              "    }\n",
              "\n",
              "    [theme=dark] .colab-df-convert {\n",
              "      background-color: #3B4455;\n",
              "      fill: #D2E3FC;\n",
              "    }\n",
              "\n",
              "    [theme=dark] .colab-df-convert:hover {\n",
              "      background-color: #434B5C;\n",
              "      box-shadow: 0px 1px 3px 1px rgba(0, 0, 0, 0.15);\n",
              "      filter: drop-shadow(0px 1px 2px rgba(0, 0, 0, 0.3));\n",
              "      fill: #FFFFFF;\n",
              "    }\n",
              "  </style>\n",
              "\n",
              "      <script>\n",
              "        const buttonEl =\n",
              "          document.querySelector('#df-f5907eaf-db2c-45fe-8048-4cbdbd8cdb7a button.colab-df-convert');\n",
              "        buttonEl.style.display =\n",
              "          google.colab.kernel.accessAllowed ? 'block' : 'none';\n",
              "\n",
              "        async function convertToInteractive(key) {\n",
              "          const element = document.querySelector('#df-f5907eaf-db2c-45fe-8048-4cbdbd8cdb7a');\n",
              "          const dataTable =\n",
              "            await google.colab.kernel.invokeFunction('convertToInteractive',\n",
              "                                                     [key], {});\n",
              "          if (!dataTable) return;\n",
              "\n",
              "          const docLinkHtml = 'Like what you see? Visit the ' +\n",
              "            '<a target=\"_blank\" href=https://colab.research.google.com/notebooks/data_table.ipynb>data table notebook</a>'\n",
              "            + ' to learn more about interactive tables.';\n",
              "          element.innerHTML = '';\n",
              "          dataTable['output_type'] = 'display_data';\n",
              "          await google.colab.output.renderOutput(dataTable, element);\n",
              "          const docLink = document.createElement('div');\n",
              "          docLink.innerHTML = docLinkHtml;\n",
              "          element.appendChild(docLink);\n",
              "        }\n",
              "      </script>\n",
              "    </div>\n",
              "  </div>\n",
              "  "
            ]
          },
          "metadata": {},
          "execution_count": 22
        }
      ]
    },
    {
      "cell_type": "code",
      "source": [
        "y.head()"
      ],
      "metadata": {
        "colab": {
          "base_uri": "https://localhost:8080/"
        },
        "id": "U5uqkiZicz4u",
        "outputId": "c1249bed-66dc-482b-fdf8-79c5ed4204a0"
      },
      "execution_count": null,
      "outputs": [
        {
          "output_type": "execute_result",
          "data": {
            "text/plain": [
              "0    0\n",
              "1    1\n",
              "2    0\n",
              "3    0\n",
              "4    0\n",
              "Name: Result_of_Treatment, dtype: int64"
            ]
          },
          "metadata": {},
          "execution_count": 23
        }
      ]
    },
    {
      "cell_type": "code",
      "source": [
        "from sklearn.model_selection import train_test_split"
      ],
      "metadata": {
        "id": "rqAcR6U_mdbQ"
      },
      "execution_count": null,
      "outputs": []
    },
    {
      "cell_type": "code",
      "source": [
        "x_train, x_test, y_train, y_test = train_test_split(x, y, test_size = 0.2, random_state = 123)"
      ],
      "metadata": {
        "id": "7qCe-h8fdSiq"
      },
      "execution_count": null,
      "outputs": []
    },
    {
      "cell_type": "code",
      "source": [
        "from sklearn.preprocessing import StandardScaler\n",
        "scaler = StandardScaler()\n",
        "scaler.fit(x_train)\n",
        "x_train = scaler.transform(x_train)\n",
        "x_test = scaler.transform(x_test)"
      ],
      "metadata": {
        "id": "Ge_rF7dMmpcx"
      },
      "execution_count": null,
      "outputs": []
    },
    {
      "cell_type": "code",
      "source": [
        "from sklearn.neighbors import KNeighborsClassifier"
      ],
      "metadata": {
        "id": "ncOmX_ulmuBb"
      },
      "execution_count": null,
      "outputs": []
    },
    {
      "cell_type": "code",
      "source": [
        "# Activating Classification Function\n",
        "klasifikasi = KNeighborsClassifier(n_neighbors=12)"
      ],
      "metadata": {
        "id": "Bs4KllWdm4fO"
      },
      "execution_count": null,
      "outputs": []
    },
    {
      "cell_type": "code",
      "source": [
        "# Memasukkan data training pada fungsi klasifikasi\n",
        "klasifikasi.fit(x_train, y_train)"
      ],
      "metadata": {
        "colab": {
          "base_uri": "https://localhost:8080/"
        },
        "id": "Q5o9c0DAnJ5q",
        "outputId": "8e1493b7-e009-46f5-8d42-ed236cd3d87b"
      },
      "execution_count": null,
      "outputs": [
        {
          "output_type": "execute_result",
          "data": {
            "text/plain": [
              "KNeighborsClassifier(n_neighbors=12)"
            ]
          },
          "metadata": {},
          "execution_count": 70
        }
      ]
    },
    {
      "cell_type": "code",
      "source": [
        "# Menentukan hasil prediksi dari x_test\n",
        "y_pred = klasifikasi.predict(x_test)\n",
        "y_pred"
      ],
      "metadata": {
        "colab": {
          "base_uri": "https://localhost:8080/"
        },
        "id": "mtJU_8WVpDj_",
        "outputId": "22b1725c-034b-4c08-fb5a-77ade8b08e2c"
      },
      "execution_count": null,
      "outputs": [
        {
          "output_type": "execute_result",
          "data": {
            "text/plain": [
              "array([0, 0, 1, 1, 1, 1, 1, 1, 1, 1, 0, 0, 1, 1, 0, 0, 1, 1])"
            ]
          },
          "metadata": {},
          "execution_count": 71
        }
      ]
    },
    {
      "cell_type": "code",
      "source": [
        "len(y_pred)"
      ],
      "metadata": {
        "colab": {
          "base_uri": "https://localhost:8080/"
        },
        "id": "21l-ohwRpKjo",
        "outputId": "bb027d14-b98a-4a10-cc13-0cbeff8f7d39"
      },
      "execution_count": null,
      "outputs": [
        {
          "output_type": "execute_result",
          "data": {
            "text/plain": [
              "18"
            ]
          },
          "metadata": {},
          "execution_count": 72
        }
      ]
    },
    {
      "cell_type": "code",
      "source": [
        "# Menentukan probabilitas hasil prediksi\n",
        "klasifikasi.predict_proba(x_test)"
      ],
      "metadata": {
        "colab": {
          "base_uri": "https://localhost:8080/"
        },
        "id": "YXb8mX4Jpi6L",
        "outputId": "c5282847-c398-48c3-d778-1a31724ce573"
      },
      "execution_count": null,
      "outputs": [
        {
          "output_type": "execute_result",
          "data": {
            "text/plain": [
              "array([[0.58333333, 0.41666667],\n",
              "       [0.75      , 0.25      ],\n",
              "       [0.25      , 0.75      ],\n",
              "       [0.08333333, 0.91666667],\n",
              "       [0.        , 1.        ],\n",
              "       [0.25      , 0.75      ],\n",
              "       [0.16666667, 0.83333333],\n",
              "       [0.        , 1.        ],\n",
              "       [0.41666667, 0.58333333],\n",
              "       [0.        , 1.        ],\n",
              "       [0.83333333, 0.16666667],\n",
              "       [0.83333333, 0.16666667],\n",
              "       [0.16666667, 0.83333333],\n",
              "       [0.        , 1.        ],\n",
              "       [0.75      , 0.25      ],\n",
              "       [0.75      , 0.25      ],\n",
              "       [0.08333333, 0.91666667],\n",
              "       [0.41666667, 0.58333333]])"
            ]
          },
          "metadata": {},
          "execution_count": 73
        }
      ]
    },
    {
      "cell_type": "code",
      "source": [
        "from sklearn.metrics import classification_report, confusion_matrix"
      ],
      "metadata": {
        "id": "48NHVxIcpmSi"
      },
      "execution_count": null,
      "outputs": []
    },
    {
      "cell_type": "code",
      "source": [
        "print(confusion_matrix(y_test, y_pred))"
      ],
      "metadata": {
        "colab": {
          "base_uri": "https://localhost:8080/"
        },
        "id": "NR-7yFvjqGKP",
        "outputId": "88b8abb3-8f16-44e1-dc1c-1f3dcc9a252e"
      },
      "execution_count": null,
      "outputs": [
        {
          "output_type": "stream",
          "name": "stdout",
          "text": [
            "[[6 3]\n",
            " [0 9]]\n"
          ]
        }
      ]
    },
    {
      "cell_type": "code",
      "source": [
        "print(classification_report(y_test, y_pred))"
      ],
      "metadata": {
        "id": "FAzWTQhbqOk6",
        "colab": {
          "base_uri": "https://localhost:8080/"
        },
        "outputId": "657e6c19-1a1e-456b-a6f3-9dd926a258b8"
      },
      "execution_count": null,
      "outputs": [
        {
          "output_type": "stream",
          "name": "stdout",
          "text": [
            "              precision    recall  f1-score   support\n",
            "\n",
            "           0       1.00      0.67      0.80         9\n",
            "           1       0.75      1.00      0.86         9\n",
            "\n",
            "    accuracy                           0.83        18\n",
            "   macro avg       0.88      0.83      0.83        18\n",
            "weighted avg       0.88      0.83      0.83        18\n",
            "\n"
          ]
        }
      ]
    },
    {
      "cell_type": "code",
      "source": [
        "# Accuracy Score\n",
        "from sklearn.metrics import accuracy_score\n",
        "accuracy= accuracy_score(y_test, y_pred)\n",
        "accuracy"
      ],
      "metadata": {
        "id": "iR0Lz2Dyqtxn",
        "colab": {
          "base_uri": "https://localhost:8080/"
        },
        "outputId": "0b258472-7326-40c8-a41f-4723476cb2c6"
      },
      "execution_count": null,
      "outputs": [
        {
          "output_type": "execute_result",
          "data": {
            "text/plain": [
              "0.8333333333333334"
            ]
          },
          "metadata": {},
          "execution_count": 77
        }
      ]
    },
    {
      "cell_type": "markdown",
      "source": [
        "Accuracy K=12 : 0.83 / 83,3%\n"
      ],
      "metadata": {
        "id": "2pdG65Vikn-x"
      }
    },
    {
      "cell_type": "code",
      "source": [
        "error_rate=[]\n",
        "for i in range (1,30):\n",
        "    knn = KNeighborsClassifier(n_neighbors=i)\n",
        "    knn.fit(x_train, y_train)\n",
        "    pred_i = knn.predict(x_test)\n",
        "    error_rate.append(np.mean(pred_i != y_test))"
      ],
      "metadata": {
        "id": "iiqECyChqxBW"
      },
      "execution_count": null,
      "outputs": []
    },
    {
      "cell_type": "code",
      "source": [
        "mtp.figure(figsize=(10,6))\n",
        "mtp.plot(range(1,30),error_rate, color='blue',linestyle='dashed', marker='o', markerfacecolor = 'red', markersize = 8)\n",
        "mtp.title('Eror Rate Berdasarkan Nilai K')\n",
        "mtp.xlabel('K Value')\n",
        "mtp.ylabel('Mean Error')"
      ],
      "metadata": {
        "id": "c8Zh_ERJsAF_",
        "colab": {
          "base_uri": "https://localhost:8080/",
          "height": 421
        },
        "outputId": "3fc8148d-a5e0-4bfb-8bd0-28a952ad9fab"
      },
      "execution_count": null,
      "outputs": [
        {
          "output_type": "execute_result",
          "data": {
            "text/plain": [
              "Text(0, 0.5, 'Mean Error')"
            ]
          },
          "metadata": {},
          "execution_count": 41
        },
        {
          "output_type": "display_data",
          "data": {
            "text/plain": [
              "<Figure size 720x432 with 1 Axes>"
            ],
            "image/png": "[encoded data removed]"
          },
          "metadata": {
            "needs_background": "light"
          }
        }
      ]
    },
    {
      "cell_type": "markdown",
      "source": [
        "Dari output di atas, nilai Error akan minimum ketika K=2, K=3, K=4, K=5, K=6, K=7, K=8, K=9, dan K=10"
      ],
      "metadata": {
        "id": "xEIwfHfYm61M"
      }
    },
    {
      "cell_type": "code",
      "source": [
        "# Training and Prediction\n",
        "from sklearn.neighbors import KNeighborsClassifier\n",
        "classifier2 = KNeighborsClassifier(n_neighbors=2) # Menentukan nilai K (banyaknya tetangga terdekat yg menjadi acuan klasifikasi) \n",
        "classifier2.fit(x_train, y_train)\n",
        "\n",
        "# Prediction\n",
        "# Output hasil prediksi dengan K=2\n",
        "y_pred2 = classifier2.predict(x_test).tolist()\n",
        "print(\"Output hasil prediksi dengan K=2 \\n\", y_pred2)\n",
        "\n",
        "y_actual2=y_test.tolist()\n",
        "print(\"Confusion Matrix \\n\", confusion_matrix(y_actual2,y_pred2))\n",
        "\n",
        "# Akurasi K=2\n",
        "accuracy = accuracy_score(y_actual2, y_pred2)\n",
        "print(\"Akurasi K=2 :\", accuracy)\n",
        "\n",
        "print(\"\\n\", classification_report(y_actual2, y_pred2))"
      ],
      "metadata": {
        "colab": {
          "base_uri": "https://localhost:8080/"
        },
        "id": "5Is4incmsn5l",
        "outputId": "368cbbe8-66af-4741-ea80-aab391fa9d9c"
      },
      "execution_count": null,
      "outputs": [
        {
          "output_type": "stream",
          "name": "stdout",
          "text": [
            "Output hasil prediksi dengan K=2 \n",
            " [0, 0, 1, 1, 1, 1, 1, 1, 0, 1, 0, 0, 1, 1, 0, 0, 1, 0]\n",
            "Confusion Matrix \n",
            " [[8 1]\n",
            " [0 9]]\n",
            "Akurasi K=2 : 0.9444444444444444\n",
            "\n",
            "               precision    recall  f1-score   support\n",
            "\n",
            "           0       1.00      0.89      0.94         9\n",
            "           1       0.90      1.00      0.95         9\n",
            "\n",
            "    accuracy                           0.94        18\n",
            "   macro avg       0.95      0.94      0.94        18\n",
            "weighted avg       0.95      0.94      0.94        18\n",
            "\n"
          ]
        }
      ]
    },
    {
      "cell_type": "code",
      "source": [
        "# Training and Prediction\n",
        "classifier3 = KNeighborsClassifier(n_neighbors=3) # Menentukan nilai K (banyaknya tetangga terdekat yg menjadi acuan klasifikasi) \n",
        "classifier3.fit(x_train, y_train)\n",
        "\n",
        "# Prediction\n",
        "# Output hasil prediksi dengan K=3\n",
        "y_pred3 = classifier3.predict(x_test).tolist()\n",
        "print(\"Output hasil prediksi dengan K=3 \\n\", y_pred3)\n",
        "\n",
        "y_actual3=y_test.tolist()\n",
        "print(\"Confusion Matrix \\n\", confusion_matrix(y_actual3,y_pred3))\n",
        "\n",
        "# Akurasi K=3\n",
        "accuracy = accuracy_score(y_actual3, y_pred3)\n",
        "print(\"Akurasi K=3 :\", accuracy)\n",
        "\n",
        "print(\"\\n\", classification_report(y_actual3, y_pred3))"
      ],
      "metadata": {
        "id": "wlBMyxpOwGoV",
        "colab": {
          "base_uri": "https://localhost:8080/"
        },
        "outputId": "f9e1f744-a68a-4d94-b899-db07121fbb2a"
      },
      "execution_count": null,
      "outputs": [
        {
          "output_type": "stream",
          "name": "stdout",
          "text": [
            "Output hasil prediksi dengan K=3 \n",
            " [0, 0, 1, 1, 1, 1, 1, 1, 0, 1, 0, 0, 1, 1, 0, 0, 1, 0]\n",
            "Confusion Matrix \n",
            " [[8 1]\n",
            " [0 9]]\n",
            "Akurasi K=3 : 0.9444444444444444\n",
            "\n",
            "               precision    recall  f1-score   support\n",
            "\n",
            "           0       1.00      0.89      0.94         9\n",
            "           1       0.90      1.00      0.95         9\n",
            "\n",
            "    accuracy                           0.94        18\n",
            "   macro avg       0.95      0.94      0.94        18\n",
            "weighted avg       0.95      0.94      0.94        18\n",
            "\n"
          ]
        }
      ]
    },
    {
      "cell_type": "code",
      "source": [
        "# Training and Prediction\n",
        "classifier4 = KNeighborsClassifier(n_neighbors=4) # Menentukan nilai K (banyaknya tetangga terdekat yg menjadi acuan klasifikasi) \n",
        "classifier4.fit(x_train, y_train)\n",
        "\n",
        "# Prediction\n",
        "# Output hasil prediksi dengan K=4\n",
        "y_pred4 = classifier4.predict(x_test).tolist()\n",
        "print(\"Output hasil prediksi dengan K=4 \\n\", y_pred4)\n",
        "\n",
        "y_actual4=y_test.tolist()\n",
        "print(\"Confusion Matrix \\n\", confusion_matrix(y_actual4,y_pred4))\n",
        "\n",
        "# Akurasi K=4\n",
        "accuracy = accuracy_score(y_actual4, y_pred4)\n",
        "print(\"Akurasi K=4 :\", accuracy)\n",
        "\n",
        "print(\"\\n\", classification_report(y_actual4, y_pred4))"
      ],
      "metadata": {
        "colab": {
          "base_uri": "https://localhost:8080/"
        },
        "id": "K-QmMwFeppxr",
        "outputId": "17459424-e03e-4f87-e56e-8e579c6ded68"
      },
      "execution_count": null,
      "outputs": [
        {
          "output_type": "stream",
          "name": "stdout",
          "text": [
            "Output hasil prediksi dengan K=4 \n",
            " [0, 0, 1, 1, 1, 1, 1, 1, 0, 1, 0, 0, 1, 1, 0, 0, 1, 0]\n",
            "Confusion Matrix \n",
            " [[8 1]\n",
            " [0 9]]\n",
            "Akurasi K=4 : 0.9444444444444444\n",
            "\n",
            "               precision    recall  f1-score   support\n",
            "\n",
            "           0       1.00      0.89      0.94         9\n",
            "           1       0.90      1.00      0.95         9\n",
            "\n",
            "    accuracy                           0.94        18\n",
            "   macro avg       0.95      0.94      0.94        18\n",
            "weighted avg       0.95      0.94      0.94        18\n",
            "\n"
          ]
        }
      ]
    },
    {
      "cell_type": "code",
      "source": [
        "# Training and Prediction\n",
        "classifier5 = KNeighborsClassifier(n_neighbors=5) # Menentukan nilai K (banyaknya tetangga terdekat yg menjadi acuan klasifikasi) \n",
        "classifier5.fit(x_train, y_train)\n",
        "\n",
        "# Prediction\n",
        "# Output hasil prediksi dengan K=5\n",
        "y_pred5 = classifier5.predict(x_test).tolist()\n",
        "print(\"Output hasil prediksi dengan K=5 \\n\", y_pred5)\n",
        "\n",
        "y_actual5=y_test.tolist()\n",
        "print(\"Confusion Matrix \\n\", confusion_matrix(y_actual5,y_pred5))\n",
        "\n",
        "# Akurasi K=5\n",
        "accuracy = accuracy_score(y_actual5, y_pred5)\n",
        "print(\"Akurasi K=5 :\", accuracy)\n",
        "\n",
        "print(\"\\n\", classification_report(y_actual5, y_pred5))"
      ],
      "metadata": {
        "colab": {
          "base_uri": "https://localhost:8080/"
        },
        "id": "od0uopSQqi1a",
        "outputId": "e8edba07-b2db-4a69-c1ca-1f29521ba83f"
      },
      "execution_count": null,
      "outputs": [
        {
          "output_type": "stream",
          "name": "stdout",
          "text": [
            "Output hasil prediksi dengan K=5 \n",
            " [0, 0, 1, 1, 1, 1, 1, 1, 0, 1, 0, 0, 1, 1, 0, 0, 1, 0]\n",
            "Confusion Matrix \n",
            " [[8 1]\n",
            " [0 9]]\n",
            "Akurasi K=5 : 0.9444444444444444\n",
            "\n",
            "               precision    recall  f1-score   support\n",
            "\n",
            "           0       1.00      0.89      0.94         9\n",
            "           1       0.90      1.00      0.95         9\n",
            "\n",
            "    accuracy                           0.94        18\n",
            "   macro avg       0.95      0.94      0.94        18\n",
            "weighted avg       0.95      0.94      0.94        18\n",
            "\n"
          ]
        }
      ]
    },
    {
      "cell_type": "code",
      "source": [
        "# Training and Prediction\n",
        "classifier6 = KNeighborsClassifier(n_neighbors=6) # Menentukan nilai K (banyaknya tetangga terdekat yg menjadi acuan klasifikasi) \n",
        "classifier6.fit(x_train, y_train)\n",
        "\n",
        "# Prediction\n",
        "# Output hasil prediksi dengan K=6\n",
        "y_pred6 = classifier6.predict(x_test).tolist()\n",
        "print(\"Output hasil prediksi dengan K=6 \\n\", y_pred6)\n",
        "\n",
        "y_actual6=y_test.tolist()\n",
        "print(\"Confusion Matrix \\n\", confusion_matrix(y_actual6,y_pred6))\n",
        "\n",
        "# Akurasi K=6\n",
        "accuracy = accuracy_score(y_actual6, y_pred6)\n",
        "print(\"Akurasi K=6 :\", accuracy)\n",
        "\n",
        "print(\"\\n\", classification_report(y_actual6, y_pred6))"
      ],
      "metadata": {
        "colab": {
          "base_uri": "https://localhost:8080/"
        },
        "id": "dr_oGBsithZ3",
        "outputId": "1c0c2967-41af-4834-8766-69490d8f164a"
      },
      "execution_count": null,
      "outputs": [
        {
          "output_type": "stream",
          "name": "stdout",
          "text": [
            "Output hasil prediksi dengan K=6 \n",
            " [0, 0, 1, 1, 1, 1, 1, 1, 0, 1, 0, 0, 1, 1, 0, 0, 1, 0]\n",
            "Confusion Matrix \n",
            " [[8 1]\n",
            " [0 9]]\n",
            "Akurasi K=6 : 0.9444444444444444\n",
            "\n",
            "               precision    recall  f1-score   support\n",
            "\n",
            "           0       1.00      0.89      0.94         9\n",
            "           1       0.90      1.00      0.95         9\n",
            "\n",
            "    accuracy                           0.94        18\n",
            "   macro avg       0.95      0.94      0.94        18\n",
            "weighted avg       0.95      0.94      0.94        18\n",
            "\n"
          ]
        }
      ]
    },
    {
      "cell_type": "code",
      "source": [
        "# Training and Prediction\n",
        "classifier7 = KNeighborsClassifier(n_neighbors=7) # Menentukan nilai K (banyaknya tetangga terdekat yg menjadi acuan klasifikasi) \n",
        "classifier7.fit(x_train, y_train)\n",
        "\n",
        "# Prediction\n",
        "# Output hasil prediksi dengan K=7\n",
        "y_pred7 = classifier7.predict(x_test).tolist()\n",
        "print(\"Output hasil prediksi dengan K=7 \\n\", y_pred7)\n",
        "\n",
        "y_actual7=y_test.tolist()\n",
        "print(\"Confusion Matrix \\n\", confusion_matrix(y_actual7,y_pred7))\n",
        "\n",
        "# Akurasi K=7\n",
        "accuracy = accuracy_score(y_actual7, y_pred7)\n",
        "print(\"Akurasi K=7 :\", accuracy)\n",
        "\n",
        "print(\"\\n\", classification_report(y_actual7, y_pred7))"
      ],
      "metadata": {
        "colab": {
          "base_uri": "https://localhost:8080/"
        },
        "id": "m2JEsTcHuHPV",
        "outputId": "afaca9b2-29fa-4f8f-b6b6-3a8473aee3ef"
      },
      "execution_count": null,
      "outputs": [
        {
          "output_type": "stream",
          "name": "stdout",
          "text": [
            "Output hasil prediksi dengan K=7 \n",
            " [0, 0, 1, 1, 1, 1, 1, 1, 0, 1, 0, 0, 1, 1, 0, 0, 1, 0]\n",
            "Confusion Matrix \n",
            " [[8 1]\n",
            " [0 9]]\n",
            "Akurasi K=7 : 0.9444444444444444\n",
            "\n",
            "               precision    recall  f1-score   support\n",
            "\n",
            "           0       1.00      0.89      0.94         9\n",
            "           1       0.90      1.00      0.95         9\n",
            "\n",
            "    accuracy                           0.94        18\n",
            "   macro avg       0.95      0.94      0.94        18\n",
            "weighted avg       0.95      0.94      0.94        18\n",
            "\n"
          ]
        }
      ]
    },
    {
      "cell_type": "code",
      "source": [
        "# Training and Prediction\n",
        "classifier8 = KNeighborsClassifier(n_neighbors=8) # Menentukan nilai K (banyaknya tetangga terdekat yg menjadi acuan klasifikasi) \n",
        "classifier8.fit(x_train, y_train)\n",
        "\n",
        "# Prediction\n",
        "# Output hasil prediksi dengan K=8\n",
        "y_pred8 = classifier8.predict(x_test).tolist()\n",
        "print(\"Output hasil prediksi dengan K=8 \\n\", y_pred8)\n",
        "\n",
        "y_actual8=y_test.tolist()\n",
        "print(\"Confusion Matrix \\n\", confusion_matrix(y_actual8,y_pred8))\n",
        "\n",
        "# Akurasi K=8\n",
        "accuracy = accuracy_score(y_actual8, y_pred8)\n",
        "print(\"Akurasi K=8 :\", accuracy)\n",
        "\n",
        "print(\"\\n\", classification_report(y_actual8, y_pred8))"
      ],
      "metadata": {
        "colab": {
          "base_uri": "https://localhost:8080/"
        },
        "id": "DmHwfCuhubdP",
        "outputId": "ca5fc7e2-e0b4-4622-94ba-c11c47d75c22"
      },
      "execution_count": null,
      "outputs": [
        {
          "output_type": "stream",
          "name": "stdout",
          "text": [
            "Output hasil prediksi dengan K=8 \n",
            " [0, 0, 1, 1, 1, 1, 1, 1, 0, 1, 0, 0, 1, 1, 0, 0, 1, 0]\n",
            "Confusion Matrix \n",
            " [[8 1]\n",
            " [0 9]]\n",
            "Akurasi K=8 : 0.9444444444444444\n",
            "\n",
            "               precision    recall  f1-score   support\n",
            "\n",
            "           0       1.00      0.89      0.94         9\n",
            "           1       0.90      1.00      0.95         9\n",
            "\n",
            "    accuracy                           0.94        18\n",
            "   macro avg       0.95      0.94      0.94        18\n",
            "weighted avg       0.95      0.94      0.94        18\n",
            "\n"
          ]
        }
      ]
    },
    {
      "cell_type": "code",
      "source": [
        "# Training and Prediction\n",
        "classifier9 = KNeighborsClassifier(n_neighbors=9) # Menentukan nilai K (banyaknya tetangga terdekat yg menjadi acuan klasifikasi) \n",
        "classifier9.fit(x_train, y_train)\n",
        "\n",
        "# Prediction\n",
        "# Output hasil prediksi dengan K=9\n",
        "y_pred9 = classifier9.predict(x_test).tolist()\n",
        "print(\"Output hasil prediksi dengan K=9 \\n\", y_pred9)\n",
        "\n",
        "y_actual9=y_test.tolist()\n",
        "print(\"Confusion Matrix \\n\", confusion_matrix(y_actual9,y_pred9))\n",
        "\n",
        "# Akurasi K=9\n",
        "accuracy = accuracy_score(y_actual9, y_pred9)\n",
        "print(\"Akurasi K=9 :\", accuracy)\n",
        "\n",
        "print(\"\\n\", classification_report(y_actual9, y_pred9))"
      ],
      "metadata": {
        "colab": {
          "base_uri": "https://localhost:8080/"
        },
        "id": "fMzFF10zu_eA",
        "outputId": "f1f0ecfd-dd67-43dd-8097-1f25b7c20a4f"
      },
      "execution_count": null,
      "outputs": [
        {
          "output_type": "stream",
          "name": "stdout",
          "text": [
            "Output hasil prediksi dengan K=9 \n",
            " [0, 0, 1, 1, 1, 1, 1, 1, 0, 1, 0, 0, 1, 1, 0, 0, 1, 0]\n",
            "Confusion Matrix \n",
            " [[8 1]\n",
            " [0 9]]\n",
            "Akurasi K=9 : 0.9444444444444444\n",
            "\n",
            "               precision    recall  f1-score   support\n",
            "\n",
            "           0       1.00      0.89      0.94         9\n",
            "           1       0.90      1.00      0.95         9\n",
            "\n",
            "    accuracy                           0.94        18\n",
            "   macro avg       0.95      0.94      0.94        18\n",
            "weighted avg       0.95      0.94      0.94        18\n",
            "\n"
          ]
        }
      ]
    },
    {
      "cell_type": "code",
      "source": [
        "# Training and Prediction\n",
        "classifier10 = KNeighborsClassifier(n_neighbors=10) # Menentukan nilai K (banyaknya tetangga terdekat yg menjadi acuan klasifikasi) \n",
        "classifier10.fit(x_train, y_train)\n",
        "\n",
        "# Prediction\n",
        "# Output hasil prediksi dengan K=10\n",
        "y_pred10 = classifier10.predict(x_test).tolist()\n",
        "print(\"Output hasil prediksi dengan K=10 \\n\", y_pred10)\n",
        "\n",
        "y_actual10=y_test.tolist()\n",
        "print(\"Confusion Matrix \\n\", confusion_matrix(y_actual10,y_pred10))\n",
        "\n",
        "# Akurasi K=10\n",
        "accuracy = accuracy_score(y_actual10, y_pred10)\n",
        "print(\"Akurasi K=10 :\", accuracy)\n",
        "\n",
        "print(\"\\n\", classification_report(y_actual10, y_pred10))"
      ],
      "metadata": {
        "colab": {
          "base_uri": "https://localhost:8080/"
        },
        "id": "2Ap_XCMrvJlK",
        "outputId": "8a49c4b0-25c7-4008-e97c-ef0ed4068470"
      },
      "execution_count": null,
      "outputs": [
        {
          "output_type": "stream",
          "name": "stdout",
          "text": [
            "Output hasil prediksi dengan K=10 \n",
            " [0, 0, 1, 1, 1, 1, 1, 1, 0, 1, 0, 0, 1, 1, 0, 0, 1, 0]\n",
            "Confusion Matrix \n",
            " [[8 1]\n",
            " [0 9]]\n",
            "Akurasi K=10 : 0.9444444444444444\n",
            "\n",
            "               precision    recall  f1-score   support\n",
            "\n",
            "           0       1.00      0.89      0.94         9\n",
            "           1       0.90      1.00      0.95         9\n",
            "\n",
            "    accuracy                           0.94        18\n",
            "   macro avg       0.95      0.94      0.94        18\n",
            "weighted avg       0.95      0.94      0.94        18\n",
            "\n"
          ]
        }
      ]
    },
    {
      "cell_type": "markdown",
      "source": [
        "Dari proses Training dan Prediction untuk K=2 sampai K=10 merupakan K yang terbaik karena memiliki nilai akurasi 0.94 atau 94,4% dan nilai akurasi tersebut lebih besar daripada nilai akurasi untuk K=12, yaitu 83,3%, kemudian mempunyai nilai precision, recall, dan f1-score yang paling optimal ketimbang nilai precision, recall, dan f1-score untuk K=12"
      ],
      "metadata": {
        "id": "wMHpY07RvX5J"
      }
    }
  ]
}